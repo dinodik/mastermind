{
 "cells": [
  {
   "cell_type": "code",
   "execution_count": 650,
   "id": "ffeea25d",
   "metadata": {},
   "outputs": [],
   "source": [
    "import numpy as np\n",
    "import itertools"
   ]
  },
  {
   "cell_type": "code",
   "execution_count": 695,
   "id": "3055acf9",
   "metadata": {},
   "outputs": [],
   "source": [
    "class Mastermind:\n",
    "    def __init__(self, NUM_COLOURS, CODE_LENGTH):\n",
    "        self.NUM_COLOURS = NUM_COLOURS\n",
    "        self.CODE_LENGTH = CODE_LENGTH\n",
    "        self.NUM_COMBINATIONS = self.NUM_COLOURS ** CODE_LENGTH\n",
    "        self.guess = None\n",
    "        self.feedback = None\n",
    "        \n",
    "        self.combinations = np.array(list(itertools.product(*[list(range(self.NUM_COLOURS)) for _ in range(CODE_LENGTH)])))            \n",
    "        \n",
    "        self.feedback_combinations = []\n",
    "        for i in range(self.CODE_LENGTH + 1):\n",
    "            for j in range(self.CODE_LENGTH + 1 - i):\n",
    "                self.feedback_combinations.append((j, i))\n",
    "        self.feedback_combinations.remove((1, self.CODE_LENGTH - 1)) # Impossible\n",
    "        \n",
    "        self._updatePossibilities()\n",
    "            \n",
    "        # self.getGuess()\n",
    "        \n",
    "    def _calcGuess(self):\n",
    "        scores = np.empty(self.NUM_COMBINATIONS)\n",
    "        #table = []\n",
    "        for i in range(self.NUM_COMBINATIONS):\n",
    "            #element = []\n",
    "            guess = self.combinations[i]\n",
    "            score = 0\n",
    "            for feedback in self.feedback_combinations:\n",
    "                count = 0\n",
    "                for possibility in self.possibilities: ## Feels like this can be optimised since there's symmetry in _calcFeedback\n",
    "                    if self._calcFeedback(guess, possibility) == feedback:\n",
    "                        count += 1\n",
    "                if count > score:\n",
    "                    score = count\n",
    "                #element.append(count)\n",
    "            scores[i] = score\n",
    "            #table.append(element)\n",
    "        min_score = scores.min()\n",
    "        guesses = self.combinations[np.where(scores == min_score)]\n",
    "#         if min_score == 1:\n",
    "#             guesses_in_possi = []\n",
    "#             for guess in guesses:\n",
    "#                 if tuple(guess) in self.possibilities:\n",
    "#                     guesses_in_possi.append(guess)\n",
    "#             return guesses_in_possi, min_score\n",
    "        return guesses, min_score\n",
    "            \n",
    "    def _calcFeedback(self, guess, possibility):\n",
    "        used_guess = [False for _ in range(self.CODE_LENGTH)]\n",
    "        used_possibility = [False for _ in range(self.CODE_LENGTH)] \n",
    "        correct_place = 0\n",
    "        for i in range(self.CODE_LENGTH):\n",
    "            if guess[i] == possibility[i]:\n",
    "                correct_place += 1\n",
    "                used_guess[i] = True\n",
    "                used_possibility[i] = True\n",
    "        correct_colour = 0\n",
    "        for i in range(self.CODE_LENGTH):\n",
    "            if not used_guess[i]:\n",
    "                for j in range(self.CODE_LENGTH):\n",
    "                    if not used_possibility[j]:\n",
    "                        if guess[i] == possibility[j]:\n",
    "                            correct_colour += 1\n",
    "                            used_guess[i] = True\n",
    "                            used_possibility[j] = True\n",
    "                            break\n",
    "        return (correct_colour, correct_place)\n",
    "        \n",
    "    \n",
    "    def _updatePossibilities(self):\n",
    "        if self.guess:\n",
    "            new_possibilities = []\n",
    "            for possibility in self.possibilities:\n",
    "                if self._calcFeedback(self.guess, possibility) == self.feedback:\n",
    "                    new_possibilities.append(possibility)\n",
    "            self.possibilities = new_possibilities\n",
    "        else:\n",
    "            self.possibilities = self.combinations.tolist()\n",
    "    \n",
    "    def getGuess(self):\n",
    "        self._updatePossibilities()\n",
    "        guess, min_score = self._calcGuess()\n",
    "        print(\"min score:\", min_score)\n",
    "        print(len(guess), \"guesses\")\n",
    "        return guess\n",
    "    \n",
    "    def setGuess(self, guess):\n",
    "        self.guess = guess\n",
    "    \n",
    "    def setFeedback(self, feedback):\n",
    "        self.feedback = feedback\n",
    "        \n",
    "        \n",
    "        "
   ]
  },
  {
   "cell_type": "code",
   "execution_count": 711,
   "id": "0ac1a9b1",
   "metadata": {},
   "outputs": [
    {
     "data": {
      "text/plain": [
       "'\\n0 white\\n1 blue\\n2 green\\n3 yellow\\n4 red\\n5 gray\\n6 orange\\n7 pink\\n'"
      ]
     },
     "execution_count": 711,
     "metadata": {},
     "output_type": "execute_result"
    }
   ],
   "source": [
    "game = Mastermind(8,4)\n",
    "'''\n",
    "0 white\n",
    "1 blue\n",
    "2 green\n",
    "3 yellow\n",
    "4 red\n",
    "5 gray\n",
    "6 orange\n",
    "7 pink\n",
    "'''"
   ]
  },
  {
   "cell_type": "code",
   "execution_count": 722,
   "id": "72b6e969",
   "metadata": {},
   "outputs": [
    {
     "name": "stdout",
     "output_type": "stream",
     "text": [
      "min score: 4.0\n",
      "16 guesses\n"
     ]
    },
    {
     "data": {
      "text/plain": [
       "array([[0, 4, 3, 3],\n",
       "       [0, 4, 4, 3],\n",
       "       [0, 7, 3, 3],\n",
       "       [0, 7, 7, 3],\n",
       "       [2, 2, 4, 4],\n",
       "       [2, 2, 7, 7],\n",
       "       [3, 4, 0, 3],\n",
       "       [3, 7, 0, 3],\n",
       "       [4, 0, 3, 3],\n",
       "       [4, 0, 4, 3],\n",
       "       [4, 0, 7, 3],\n",
       "       [4, 4, 3, 0],\n",
       "       [7, 0, 3, 3],\n",
       "       [7, 0, 4, 3],\n",
       "       [7, 0, 7, 3],\n",
       "       [7, 7, 3, 0]])"
      ]
     },
     "execution_count": 722,
     "metadata": {},
     "output_type": "execute_result"
    }
   ],
   "source": [
    "game.getGuess()"
   ]
  },
  {
   "cell_type": "code",
   "execution_count": 723,
   "id": "02a9c3d1",
   "metadata": {},
   "outputs": [],
   "source": [
    "game.setGuess((7,0,4,3))"
   ]
  },
  {
   "cell_type": "code",
   "execution_count": 724,
   "id": "3340241d",
   "metadata": {},
   "outputs": [],
   "source": [
    "game.setFeedback((0,0))"
   ]
  },
  {
   "cell_type": "code",
   "execution_count": 725,
   "id": "f0d59c1a",
   "metadata": {},
   "outputs": [
    {
     "data": {
      "text/plain": [
       "1"
      ]
     },
     "execution_count": 725,
     "metadata": {},
     "output_type": "execute_result"
    }
   ],
   "source": [
    "game._updatePossibilities()\n",
    "len(game.possibilities)"
   ]
  },
  {
   "cell_type": "code",
   "execution_count": 726,
   "id": "44aa0c22",
   "metadata": {},
   "outputs": [
    {
     "data": {
      "text/plain": [
       "[[2, 2, 2, 2]]"
      ]
     },
     "execution_count": 726,
     "metadata": {},
     "output_type": "execute_result"
    }
   ],
   "source": [
    "game.possibilities"
   ]
  },
  {
   "cell_type": "code",
   "execution_count": 609,
   "id": "288f6bf8",
   "metadata": {},
   "outputs": [
    {
     "data": {
      "text/plain": [
       "(3, 0)"
      ]
     },
     "execution_count": 609,
     "metadata": {},
     "output_type": "execute_result"
    }
   ],
   "source": [
    "game._calcFeedback((3,3,4,2),(2,2,3,3))"
   ]
  },
  {
   "cell_type": "code",
   "execution_count": null,
   "id": "5fab57e5",
   "metadata": {},
   "outputs": [],
   "source": []
  }
 ],
 "metadata": {
  "kernelspec": {
   "display_name": "Python 3 (ipykernel)",
   "language": "python",
   "name": "python3"
  },
  "language_info": {
   "codemirror_mode": {
    "name": "ipython",
    "version": 3
   },
   "file_extension": ".py",
   "mimetype": "text/x-python",
   "name": "python",
   "nbconvert_exporter": "python",
   "pygments_lexer": "ipython3",
   "version": "3.8.12"
  }
 },
 "nbformat": 4,
 "nbformat_minor": 5
}
